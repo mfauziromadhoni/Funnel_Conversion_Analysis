{
 "cells": [
  {
   "cell_type": "markdown",
   "id": "5fb43360",
   "metadata": {},
   "source": [
    "### FUNNEL CONVERISON ANALYSIS\n",
    "\n",
    "Funnel conversion analysis is a method to track and measure how users move through each stage of the sales or engagement funnel. It helps identify where most users drop off and which stages need improvement.\n",
    "\n",
    "### Key Steps in Funnel Conversion:\n",
    "1. **Stage Definition**  \n",
    "   Define the stages clearly, such as *View → Click → Add to Cart → Purchase*.\n",
    "\n",
    "2. **Data Aggregation**  \n",
    "   Summarize user activities at each stage to get the total number of users engaging.\n",
    "\n",
    "3. **Conversion Ratio Calculation**  \n",
    "   Calculate the percentage of users moving from one stage to the next.  \n",
    "   - Formula:  \n",
    "     \\[\n",
    "     \\text{Conversion Rate} = \\frac{\\text{Users at Current Stage}}{\\text{Users at Previous Stage}} \\times 100\n",
    "     \\]\n",
    "\n",
    "4. **Drop-off Identification**  \n",
    "   Determine the percentage of users lost between stages to highlight where most users exit the funnel.\n",
    "\n",
    "5. **Visualization**  \n",
    "   Use funnel charts or bar plots to display user flow, conversion rates, and drop-offs for clearer insights.\n",
    "\n",
    "### Why It Matters\n",
    "- Pinpoints the **critical bottlenecks** in the user journey.  \n",
    "- Provides insights for **optimization strategies** such as redesigning UI, adjusting marketing, or improving pricing.  \n",
    "- Helps evaluate the **efficiency of campaigns** and product performance.\n"
   ]
  },
  {
   "cell_type": "markdown",
   "id": "76638587",
   "metadata": {},
   "source": [
    "**Importing and Understanding Data**"
   ]
  },
  {
   "cell_type": "code",
   "execution_count": 4,
   "id": "59a7de13",
   "metadata": {},
   "outputs": [],
   "source": [
    "import pandas as pd\n",
    "import matplotlib.pyplot as plt\n",
    "import seaborn as sns"
   ]
  },
  {
   "cell_type": "code",
   "execution_count": 5,
   "id": "98004979",
   "metadata": {},
   "outputs": [],
   "source": [
    "df_product = pd.read_csv('tbl_product.csv')\n",
    "df_funnel = pd.read_csv('funnel.csv')"
   ]
  },
  {
   "cell_type": "code",
   "execution_count": 6,
   "id": "d8a1278f",
   "metadata": {},
   "outputs": [
    {
     "name": "stdout",
     "output_type": "stream",
     "text": [
      "The head of product table : \n",
      "     product_id        product_name product_category  product_cost  \\\n",
      "0  DQProduk-001   Buku Agenda DQLab      Merchandise        149850   \n",
      "1  DQProduk-002   Termos Logo DQLab      Merchandise        149850   \n",
      "2  DQProduk-003  Sticky Notes DQLab       Alat Tulis         29850   \n",
      "3  DQProduk-004   Notebook A5 DQLab     Buku Catatan        149850   \n",
      "4  DQProduk-005  Dompet Kartu DQLab      Merchandise        119850   \n",
      "\n",
      "   product_price  \n",
      "0         239850  \n",
      "1         194850  \n",
      "2          59850  \n",
      "3         194850  \n",
      "4         149850  \n",
      "The head of funnel table : \n",
      "      date    product_id        product_name product_category  purchase  \\\n",
      "0  1012024  DQProduk-001   Buku Agenda DQLab      Merchandise        87   \n",
      "1  1012024  DQProduk-002   Termos Logo DQLab      Merchandise        70   \n",
      "2  1012024  DQProduk-003  Sticky Notes DQLab       Alat Tulis         9   \n",
      "3  1012024  DQProduk-004   Notebook A5 DQLab     Buku Catatan        17   \n",
      "4  1012024  DQProduk-005  Dompet Kartu DQLab      Merchandise        25   \n",
      "\n",
      "   add_to_cart  click  view  \n",
      "0          979   3434  6631  \n",
      "1          671   2663  4956  \n",
      "2           90    353   535  \n",
      "3          200   1091  2093  \n",
      "4          224    844  1682  \n"
     ]
    }
   ],
   "source": [
    "print(f\"The head of product table : \\n{df_product.head()}\")\n",
    "print(f\"The head of funnel table : \\n{df_funnel.head()}\")"
   ]
  },
  {
   "cell_type": "code",
   "execution_count": 7,
   "id": "42233109",
   "metadata": {},
   "outputs": [
    {
     "name": "stdout",
     "output_type": "stream",
     "text": [
      "The shape of product table : \n",
      "(37, 5)\n",
      "The shape of funnel table : \n",
      "(16727, 8)\n"
     ]
    }
   ],
   "source": [
    "print(f\"The shape of product table : \\n{df_product.shape}\")\n",
    "print(f\"The shape of funnel table : \\n{df_funnel.shape}\")"
   ]
  },
  {
   "cell_type": "code",
   "execution_count": 8,
   "id": "546a7725",
   "metadata": {},
   "outputs": [
    {
     "name": "stdout",
     "output_type": "stream",
     "text": [
      "<class 'pandas.core.frame.DataFrame'>\n",
      "RangeIndex: 37 entries, 0 to 36\n",
      "Data columns (total 5 columns):\n",
      " #   Column            Non-Null Count  Dtype \n",
      "---  ------            --------------  ----- \n",
      " 0   product_id        37 non-null     object\n",
      " 1   product_name      37 non-null     object\n",
      " 2   product_category  37 non-null     object\n",
      " 3   product_cost      37 non-null     int64 \n",
      " 4   product_price     37 non-null     int64 \n",
      "dtypes: int64(2), object(3)\n",
      "memory usage: 1.6+ KB\n",
      "The info of product table : \n",
      "None\n",
      "<class 'pandas.core.frame.DataFrame'>\n",
      "RangeIndex: 16727 entries, 0 to 16726\n",
      "Data columns (total 8 columns):\n",
      " #   Column            Non-Null Count  Dtype \n",
      "---  ------            --------------  ----- \n",
      " 0   date              16727 non-null  int64 \n",
      " 1   product_id        16727 non-null  object\n",
      " 2   product_name      16727 non-null  object\n",
      " 3   product_category  16727 non-null  object\n",
      " 4   purchase          16727 non-null  int64 \n",
      " 5   add_to_cart       16727 non-null  int64 \n",
      " 6   click             16727 non-null  int64 \n",
      " 7   view              16727 non-null  int64 \n",
      "dtypes: int64(5), object(3)\n",
      "memory usage: 1.0+ MB\n",
      "The info of funnel table : \n",
      "None\n"
     ]
    }
   ],
   "source": [
    "print(f\"The info of product table : \\n{df_product.info()}\")\n",
    "print(f\"The info of funnel table : \\n{df_funnel.info()}\")"
   ]
  },
  {
   "cell_type": "markdown",
   "id": "54500de9",
   "metadata": {},
   "source": [
    "**Data Preparation**"
   ]
  },
  {
   "cell_type": "code",
   "execution_count": 9,
   "id": "f51b42ae",
   "metadata": {},
   "outputs": [],
   "source": [
    "df_merged = pd.merge(\n",
    "    df_product[['product_id', 'product_category']],\n",
    "    df_funnel,\n",
    "    on='product_id',\n",
    "    how='left'\n",
    ")\n"
   ]
  },
  {
   "cell_type": "code",
   "execution_count": 10,
   "id": "bbc1401c",
   "metadata": {},
   "outputs": [],
   "source": [
    "df_merged.rename(columns={'product_category_x': 'product_category'}, inplace=True)\n"
   ]
  },
  {
   "cell_type": "code",
   "execution_count": 11,
   "id": "e50edd0f",
   "metadata": {},
   "outputs": [],
   "source": [
    "#Choose the usable column\n",
    "new_col = [col for col in[\n",
    "    'date', 'product_id', 'product_name', 'product_category', 'purchase',\n",
    "    'add_to_cart', 'click', 'view'\n",
    "] if col in df_merged.columns]"
   ]
  },
  {
   "cell_type": "code",
   "execution_count": 12,
   "id": "a0c3d9ff",
   "metadata": {},
   "outputs": [],
   "source": [
    "df_merged = df_merged[new_col]"
   ]
  },
  {
   "cell_type": "code",
   "execution_count": 13,
   "id": "090cc516",
   "metadata": {},
   "outputs": [
    {
     "data": {
      "text/html": [
       "<div>\n",
       "<style scoped>\n",
       "    .dataframe tbody tr th:only-of-type {\n",
       "        vertical-align: middle;\n",
       "    }\n",
       "\n",
       "    .dataframe tbody tr th {\n",
       "        vertical-align: top;\n",
       "    }\n",
       "\n",
       "    .dataframe thead th {\n",
       "        text-align: right;\n",
       "    }\n",
       "</style>\n",
       "<table border=\"1\" class=\"dataframe\">\n",
       "  <thead>\n",
       "    <tr style=\"text-align: right;\">\n",
       "      <th></th>\n",
       "      <th>date</th>\n",
       "      <th>product_id</th>\n",
       "      <th>product_name</th>\n",
       "      <th>product_category</th>\n",
       "      <th>purchase</th>\n",
       "      <th>add_to_cart</th>\n",
       "      <th>click</th>\n",
       "      <th>view</th>\n",
       "    </tr>\n",
       "  </thead>\n",
       "  <tbody>\n",
       "    <tr>\n",
       "      <th>0</th>\n",
       "      <td>1012024</td>\n",
       "      <td>DQProduk-001</td>\n",
       "      <td>Buku Agenda DQLab</td>\n",
       "      <td>Merchandise</td>\n",
       "      <td>87</td>\n",
       "      <td>979</td>\n",
       "      <td>3434</td>\n",
       "      <td>6631</td>\n",
       "    </tr>\n",
       "    <tr>\n",
       "      <th>1</th>\n",
       "      <td>2012024</td>\n",
       "      <td>DQProduk-001</td>\n",
       "      <td>Buku Agenda DQLab</td>\n",
       "      <td>Merchandise</td>\n",
       "      <td>193</td>\n",
       "      <td>1881</td>\n",
       "      <td>6648</td>\n",
       "      <td>7044</td>\n",
       "    </tr>\n",
       "    <tr>\n",
       "      <th>2</th>\n",
       "      <td>3012024</td>\n",
       "      <td>DQProduk-001</td>\n",
       "      <td>Buku Agenda DQLab</td>\n",
       "      <td>Merchandise</td>\n",
       "      <td>22</td>\n",
       "      <td>233</td>\n",
       "      <td>1229</td>\n",
       "      <td>2246</td>\n",
       "    </tr>\n",
       "    <tr>\n",
       "      <th>3</th>\n",
       "      <td>4012024</td>\n",
       "      <td>DQProduk-001</td>\n",
       "      <td>Buku Agenda DQLab</td>\n",
       "      <td>Merchandise</td>\n",
       "      <td>58</td>\n",
       "      <td>607</td>\n",
       "      <td>2591</td>\n",
       "      <td>3871</td>\n",
       "    </tr>\n",
       "    <tr>\n",
       "      <th>4</th>\n",
       "      <td>5012024</td>\n",
       "      <td>DQProduk-001</td>\n",
       "      <td>Buku Agenda DQLab</td>\n",
       "      <td>Merchandise</td>\n",
       "      <td>160</td>\n",
       "      <td>1777</td>\n",
       "      <td>6372</td>\n",
       "      <td>11430</td>\n",
       "    </tr>\n",
       "  </tbody>\n",
       "</table>\n",
       "</div>"
      ],
      "text/plain": [
       "      date    product_id       product_name product_category  purchase  \\\n",
       "0  1012024  DQProduk-001  Buku Agenda DQLab      Merchandise        87   \n",
       "1  2012024  DQProduk-001  Buku Agenda DQLab      Merchandise       193   \n",
       "2  3012024  DQProduk-001  Buku Agenda DQLab      Merchandise        22   \n",
       "3  4012024  DQProduk-001  Buku Agenda DQLab      Merchandise        58   \n",
       "4  5012024  DQProduk-001  Buku Agenda DQLab      Merchandise       160   \n",
       "\n",
       "   add_to_cart  click   view  \n",
       "0          979   3434   6631  \n",
       "1         1881   6648   7044  \n",
       "2          233   1229   2246  \n",
       "3          607   2591   3871  \n",
       "4         1777   6372  11430  "
      ]
     },
     "execution_count": 13,
     "metadata": {},
     "output_type": "execute_result"
    }
   ],
   "source": [
    "df_merged.head()"
   ]
  },
  {
   "cell_type": "markdown",
   "id": "63cb3ca3",
   "metadata": {},
   "source": [
    "**Feature Engineering**"
   ]
  },
  {
   "cell_type": "code",
   "execution_count": 14,
   "id": "5d3f8a76",
   "metadata": {},
   "outputs": [
    {
     "name": "stdout",
     "output_type": "stream",
     "text": [
      "Total users in every funnel step : \n",
      "view           80125032\n",
      "click          63423975\n",
      "add_to_cart    11652997\n",
      "purchase        1166672\n",
      "dtype: int64\n"
     ]
    }
   ],
   "source": [
    "#Calculate total users/customers in every funnel stages\n",
    "tot_funnel = df_merged[['view', 'click', 'add_to_cart', 'purchase']].sum()\n",
    "\n",
    "print(f\"Total users in every funnel step : \\n{tot_funnel}\")"
   ]
  },
  {
   "cell_type": "code",
   "execution_count": 15,
   "id": "625056d9",
   "metadata": {},
   "outputs": [
    {
     "name": "stdout",
     "output_type": "stream",
     "text": [
      "Conversion rate in every stages : \n",
      "click          79.156255\n",
      "add_to_cart    18.373174\n",
      "purchase       10.011776\n",
      "dtype: float64\n"
     ]
    }
   ],
   "source": [
    "#Calculate the conversion ratio between funnel stages\n",
    "con_rate = (tot_funnel/tot_funnel.shift(1)) * 100\n",
    "con_rate = con_rate[1:]\n",
    "\n",
    "print(f\"Conversion rate in every stages : \\n{con_rate}\")"
   ]
  },
  {
   "cell_type": "code",
   "execution_count": 16,
   "id": "016ac9d4",
   "metadata": {},
   "outputs": [
    {
     "name": "stdout",
     "output_type": "stream",
     "text": [
      "Drop off in every stages : \n",
      "click          16701057.0\n",
      "add_to_cart    51770978.0\n",
      "purchase       10486325.0\n",
      "dtype: float64\n"
     ]
    }
   ],
   "source": [
    "#Calculate the absolute dropoff\n",
    "dropoff = tot_funnel.shift(1) - tot_funnel\n",
    "dropoff = dropoff[1:]\n",
    "\n",
    "print(f\"Drop off in every stages : \\n{dropoff}\")"
   ]
  },
  {
   "cell_type": "code",
   "execution_count": 17,
   "id": "04c56184",
   "metadata": {},
   "outputs": [
    {
     "name": "stdout",
     "output_type": "stream",
     "text": [
      "Percentage of drop off in every stages : \n",
      "click          20.84\n",
      "add_to_cart    81.63\n",
      "purchase       89.99\n",
      "dtype: float64\n"
     ]
    }
   ],
   "source": [
    "#Calculate the precentage of dropoff\n",
    "pct_dropoff = dropoff/tot_funnel.shift(1)[1:] *100\n",
    "\n",
    "print(f\"Percentage of drop off in every stages : \\n{pct_dropoff.round(2)}\")"
   ]
  },
  {
   "cell_type": "code",
   "execution_count": 18,
   "id": "575cd12e",
   "metadata": {},
   "outputs": [],
   "source": [
    "#Calculate avsolute drop off for each stages\n",
    "df_merged = df_merged.groupby('product_category')[['view', 'click', 'add_to_cart',\n",
    "                                                   'purchase']].sum().reset_index()\n",
    "\n",
    "df_merged['drop_view_click'] = df_merged['view'] - df_merged['click']\n",
    "df_merged['drop_clik_cart'] = df_merged['click'] - df_merged['add_to_cart']\n",
    "df_merged['drop_cart_purchase'] = df_merged['add_to_cart'] - df_merged['purchase']\n",
    "\n",
    "#Calculate total drop off\n",
    "df_merged['total_dropoff'] = df_merged['drop_view_click'] + df_merged['drop_clik_cart'] + df_merged['drop_cart_purchase']\n"
   ]
  },
  {
   "cell_type": "code",
   "execution_count": 19,
   "id": "4b09291f",
   "metadata": {},
   "outputs": [
    {
     "name": "stdout",
     "output_type": "stream",
     "text": [
      "Top 5 products with highest drop off : \n",
      "  product_category  total_dropoff\n",
      "2       Elektronik       21252386\n",
      "4      Merchandise       18195452\n",
      "0       Alat Tulis       16607185\n",
      "3   Kertas & Cetak       13041066\n",
      "6       Pengemasan        3922981\n"
     ]
    }
   ],
   "source": [
    "#Top 5 products with highest drop off\n",
    "top_dropoff = df_merged[['product_category', 'total_dropoff']].sort_values(by='total_dropoff', ascending=False)\n",
    "\n",
    "print(f\"Top 5 products with highest drop off : \\n{top_dropoff.head()}\")"
   ]
  },
  {
   "cell_type": "code",
   "execution_count": 20,
   "id": "046da05e",
   "metadata": {},
   "outputs": [],
   "source": [
    "#Calculate the conversion rate from view into purchase for each category\n",
    "con_by_category = df_merged.groupby('product_category')[['view', 'purchase']].sum().reset_index()\n",
    "con_by_category['conversion_rate'] = round((con_by_category['purchase'] / con_by_category['view']) *100, 2)\n"
   ]
  },
  {
   "cell_type": "code",
   "execution_count": 21,
   "id": "8aac1ede",
   "metadata": {},
   "outputs": [],
   "source": [
    "#Order by highest\n",
    "con_by_category = con_by_category.sort_values(by='conversion_rate', ascending=False)"
   ]
  },
  {
   "cell_type": "code",
   "execution_count": 22,
   "id": "38c57dbd",
   "metadata": {},
   "outputs": [
    {
     "name": "stdout",
     "output_type": "stream",
     "text": [
      "Conversion rate per product category : \n",
      "    product_category      view  purchase  conversion_rate\n",
      "6         Pengemasan   3983229     60248             1.51\n",
      "0         Alat Tulis  16857424    250239             1.48\n",
      "4        Merchandise  18464136    268684             1.46\n",
      "3     Kertas & Cetak  13234056    192990             1.46\n",
      "2         Elektronik  21565108    312722             1.45\n",
      "7  Perlengkapan Meja   2704624     37943             1.40\n",
      "5         Organisasi   2874258     40017             1.39\n",
      "1       Buku Catatan    442197      3829             0.87\n"
     ]
    }
   ],
   "source": [
    "print(f\"Conversion rate per product category : \\n{con_by_category}\")"
   ]
  },
  {
   "cell_type": "markdown",
   "id": "2643342f",
   "metadata": {},
   "source": [
    "**Visualization**"
   ]
  },
  {
   "cell_type": "code",
   "execution_count": 23,
   "id": "70efcd4a",
   "metadata": {},
   "outputs": [
    {
     "data": {
      "image/png": "[encoded data removed]",
      "text/plain": [
       "<Figure size 1000x500 with 1 Axes>"
      ]
     },
     "metadata": {},
     "output_type": "display_data"
    }
   ],
   "source": [
    "#Plot precentage of dropoff\n",
    "plt.figure(figsize=(10,5))\n",
    "pct_dropoff.plot(kind='bar', color='lightgreen')\n",
    "plt.title('Precentage of Drop Off per Stages')\n",
    "plt.ylabel('User Drop-off Percentage (%)')\n",
    "plt.grid(axis='y')\n",
    "plt.tight_layout()\n",
    "plt.show()"
   ]
  },
  {
   "cell_type": "code",
   "execution_count": 24,
   "id": "4db74e14",
   "metadata": {},
   "outputs": [],
   "source": [
    "#Calculate total user in every funnel\n",
    "total_funnel = df_merged[['view', 'click', 'add_to_cart', 'purchase']].sum()\n",
    "\n",
    "stages = total_funnel.index.tolist()\n",
    "values = total_funnel.values.tolist()"
   ]
  },
  {
   "cell_type": "code",
   "execution_count": 25,
   "id": "5647b7d7",
   "metadata": {},
   "outputs": [
    {
     "data": {
      "image/png": "[encoded data removed]",
      "text/plain": [
       "<Figure size 1000x600 with 1 Axes>"
      ]
     },
     "metadata": {},
     "output_type": "display_data"
    }
   ],
   "source": [
    "colors = sns.color_palette('Greens', len(stages))[::-1]\n",
    "\n",
    "plt.figure(figsize=(10,6))\n",
    "for i, (stage, value) in enumerate(zip(stages, values)):\n",
    "    plt.barh(stage, value, color=colors[i], edgecolor='black')\n",
    "\n",
    "    percent = f\"{value/values[0]*100:.1f}%\"\n",
    "\n",
    "    plt.text(value + max(values)*0.01, i, percent, va='center', ha='left',\n",
    "             color='black', fontsize= 11, fontweight='bold')\n",
    "\n",
    "plt.gca().invert_yaxis()\n",
    "plt.title('Funnel Conversion Chart', fontsize=14, fontweight='bold')\n",
    "plt.xlabel('Total User')\n",
    "plt.tight_layout()\n",
    "plt.show()"
   ]
  },
  {
   "cell_type": "markdown",
   "id": "f45b98ae",
   "metadata": {},
   "source": [
    "## Conclusion & Recommendation\n",
    "\n",
    "### Conclusion\n",
    "The funnel conversion analysis reveals that from a total of **76,594,780 views (100%)**,  \n",
    "- **79% (60,133,580)** successfully converted into clicks,  \n",
    "- but the conversion rate dropped significantly at the **add_to_cart stage** with only **15% (11,149,410)**,  \n",
    "- and eventually, only **1% (1,115,934)** of total views resulted in purchases.  \n",
    "\n",
    "This highlights a **critical drop-off between the click and add_to_cart stages**, which indicates a major bottleneck in the funnel.\n",
    "\n",
    "### Recommendation\n",
    "- **Investigate the Add-to-Cart Experience**: Check if there are issues related to UX, slow loading, or unnecessary steps that discourage users from adding products to the cart.  \n",
    "- **Optimize Product & Pricing Strategy**: Ensure products displayed after clicks align with user intent and offer competitive pricing.  \n",
    "- **Targeted Promotions or Discounts**: Provide incentives (e.g., limited-time discounts, free shipping) to encourage users to proceed beyond the add_to_cart stage.  \n",
    "- **Personalized Retargeting**: Use remarketing strategies for users who clicked but did not add items to their cart, such as personalized emails or ads.  \n"
   ]
  }
 ],
 "metadata": {
  "kernelspec": {
   "display_name": "myenv",
   "language": "python",
   "name": "python3"
  },
  "language_info": {
   "codemirror_mode": {
    "name": "ipython",
    "version": 3
   },
   "file_extension": ".py",
   "mimetype": "text/x-python",
   "name": "python",
   "nbconvert_exporter": "python",
   "pygments_lexer": "ipython3",
   "version": "3.13.3"
  }
 },
 "nbformat": 4,
 "nbformat_minor": 5
}
